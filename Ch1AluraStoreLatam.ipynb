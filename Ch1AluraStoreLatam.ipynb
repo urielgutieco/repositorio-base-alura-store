{
  "nbformat": 4,
  "nbformat_minor": 0,
  "metadata": {
    "colab": {
      "provenance": [],
      "include_colab_link": true
    },
    "kernelspec": {
      "name": "python3",
      "display_name": "Python 3"
    },
    "language_info": {
      "name": "python"
    }
  },
  "cells": [
    {
      "cell_type": "markdown",
      "metadata": {
        "id": "view-in-github",
        "colab_type": "text"
      },
      "source": [
        "<a href=\"https://colab.research.google.com/github/urielgutieco/repositorio-base-alura-store/blob/main/Ch1AluraStoreLatam.ipynb\" target=\"_parent\"><img src=\"https://colab.research.google.com/assets/colab-badge.svg\" alt=\"Open In Colab\"/></a>"
      ]
    },
    {
      "cell_type": "code",
      "execution_count": 1,
      "metadata": {
        "colab": {
          "base_uri": "https://localhost:8080/",
          "height": 310
        },
        "id": "T3EvaeQ_INIL",
        "outputId": "9676bcd9-e6d1-459f-a7e9-3b211d1681f6"
      },
      "outputs": [
        {
          "output_type": "execute_result",
          "data": {
            "text/plain": [
              "            Producto Categoría del Producto    Precio  Costo de envío  \\\n",
              "0  Asistente virtual           Electrónicos  164300.0          6900.0   \n",
              "1    Mesa de comedor                Muebles  192300.0          8400.0   \n",
              "2      Juego de mesa               Juguetes  209600.0         15900.0   \n",
              "3         Microondas      Electrodomésticos  757500.0         41000.0   \n",
              "4   Silla de oficina                Muebles  335200.0         20200.0   \n",
              "\n",
              "  Fecha de Compra         Vendedor Lugar de Compra  Calificación  \\\n",
              "0      16/01/2021      Pedro Gomez          Bogotá             4   \n",
              "1      18/05/2022  Beatriz Morales        Medellín             1   \n",
              "2      15/03/2021   Juan Fernandez       Cartagena             1   \n",
              "3      03/05/2022   Juan Fernandez            Cali             4   \n",
              "4      07/11/2020    Maria Alfonso        Medellín             5   \n",
              "\n",
              "       Método de pago  Cantidad de cuotas       lat       lon  \n",
              "0  Tarjeta de crédito                   8   4.60971 -74.08175  \n",
              "1  Tarjeta de crédito                   4   6.25184 -75.56359  \n",
              "2  Tarjeta de crédito                   1  10.39972 -75.51444  \n",
              "3               Nequi                   1   3.43722 -76.52250  \n",
              "4               Nequi                   1   6.25184 -75.56359  "
            ],
            "text/html": [
              "\n",
              "  <div id=\"df-18abec3a-d621-4fe9-a02c-26d3e955bf9f\" class=\"colab-df-container\">\n",
              "    <div>\n",
              "<style scoped>\n",
              "    .dataframe tbody tr th:only-of-type {\n",
              "        vertical-align: middle;\n",
              "    }\n",
              "\n",
              "    .dataframe tbody tr th {\n",
              "        vertical-align: top;\n",
              "    }\n",
              "\n",
              "    .dataframe thead th {\n",
              "        text-align: right;\n",
              "    }\n",
              "</style>\n",
              "<table border=\"1\" class=\"dataframe\">\n",
              "  <thead>\n",
              "    <tr style=\"text-align: right;\">\n",
              "      <th></th>\n",
              "      <th>Producto</th>\n",
              "      <th>Categoría del Producto</th>\n",
              "      <th>Precio</th>\n",
              "      <th>Costo de envío</th>\n",
              "      <th>Fecha de Compra</th>\n",
              "      <th>Vendedor</th>\n",
              "      <th>Lugar de Compra</th>\n",
              "      <th>Calificación</th>\n",
              "      <th>Método de pago</th>\n",
              "      <th>Cantidad de cuotas</th>\n",
              "      <th>lat</th>\n",
              "      <th>lon</th>\n",
              "    </tr>\n",
              "  </thead>\n",
              "  <tbody>\n",
              "    <tr>\n",
              "      <th>0</th>\n",
              "      <td>Asistente virtual</td>\n",
              "      <td>Electrónicos</td>\n",
              "      <td>164300.0</td>\n",
              "      <td>6900.0</td>\n",
              "      <td>16/01/2021</td>\n",
              "      <td>Pedro Gomez</td>\n",
              "      <td>Bogotá</td>\n",
              "      <td>4</td>\n",
              "      <td>Tarjeta de crédito</td>\n",
              "      <td>8</td>\n",
              "      <td>4.60971</td>\n",
              "      <td>-74.08175</td>\n",
              "    </tr>\n",
              "    <tr>\n",
              "      <th>1</th>\n",
              "      <td>Mesa de comedor</td>\n",
              "      <td>Muebles</td>\n",
              "      <td>192300.0</td>\n",
              "      <td>8400.0</td>\n",
              "      <td>18/05/2022</td>\n",
              "      <td>Beatriz Morales</td>\n",
              "      <td>Medellín</td>\n",
              "      <td>1</td>\n",
              "      <td>Tarjeta de crédito</td>\n",
              "      <td>4</td>\n",
              "      <td>6.25184</td>\n",
              "      <td>-75.56359</td>\n",
              "    </tr>\n",
              "    <tr>\n",
              "      <th>2</th>\n",
              "      <td>Juego de mesa</td>\n",
              "      <td>Juguetes</td>\n",
              "      <td>209600.0</td>\n",
              "      <td>15900.0</td>\n",
              "      <td>15/03/2021</td>\n",
              "      <td>Juan Fernandez</td>\n",
              "      <td>Cartagena</td>\n",
              "      <td>1</td>\n",
              "      <td>Tarjeta de crédito</td>\n",
              "      <td>1</td>\n",
              "      <td>10.39972</td>\n",
              "      <td>-75.51444</td>\n",
              "    </tr>\n",
              "    <tr>\n",
              "      <th>3</th>\n",
              "      <td>Microondas</td>\n",
              "      <td>Electrodomésticos</td>\n",
              "      <td>757500.0</td>\n",
              "      <td>41000.0</td>\n",
              "      <td>03/05/2022</td>\n",
              "      <td>Juan Fernandez</td>\n",
              "      <td>Cali</td>\n",
              "      <td>4</td>\n",
              "      <td>Nequi</td>\n",
              "      <td>1</td>\n",
              "      <td>3.43722</td>\n",
              "      <td>-76.52250</td>\n",
              "    </tr>\n",
              "    <tr>\n",
              "      <th>4</th>\n",
              "      <td>Silla de oficina</td>\n",
              "      <td>Muebles</td>\n",
              "      <td>335200.0</td>\n",
              "      <td>20200.0</td>\n",
              "      <td>07/11/2020</td>\n",
              "      <td>Maria Alfonso</td>\n",
              "      <td>Medellín</td>\n",
              "      <td>5</td>\n",
              "      <td>Nequi</td>\n",
              "      <td>1</td>\n",
              "      <td>6.25184</td>\n",
              "      <td>-75.56359</td>\n",
              "    </tr>\n",
              "  </tbody>\n",
              "</table>\n",
              "</div>\n",
              "    <div class=\"colab-df-buttons\">\n",
              "\n",
              "  <div class=\"colab-df-container\">\n",
              "    <button class=\"colab-df-convert\" onclick=\"convertToInteractive('df-18abec3a-d621-4fe9-a02c-26d3e955bf9f')\"\n",
              "            title=\"Convert this dataframe to an interactive table.\"\n",
              "            style=\"display:none;\">\n",
              "\n",
              "  <svg xmlns=\"http://www.w3.org/2000/svg\" height=\"24px\" viewBox=\"0 -960 960 960\">\n",
              "    <path d=\"M120-120v-720h720v720H120Zm60-500h600v-160H180v160Zm220 220h160v-160H400v160Zm0 220h160v-160H400v160ZM180-400h160v-160H180v160Zm440 0h160v-160H620v160ZM180-180h160v-160H180v160Zm440 0h160v-160H620v160Z\"/>\n",
              "  </svg>\n",
              "    </button>\n",
              "\n",
              "  <style>\n",
              "    .colab-df-container {\n",
              "      display:flex;\n",
              "      gap: 12px;\n",
              "    }\n",
              "\n",
              "    .colab-df-convert {\n",
              "      background-color: #E8F0FE;\n",
              "      border: none;\n",
              "      border-radius: 50%;\n",
              "      cursor: pointer;\n",
              "      display: none;\n",
              "      fill: #1967D2;\n",
              "      height: 32px;\n",
              "      padding: 0 0 0 0;\n",
              "      width: 32px;\n",
              "    }\n",
              "\n",
              "    .colab-df-convert:hover {\n",
              "      background-color: #E2EBFA;\n",
              "      box-shadow: 0px 1px 2px rgba(60, 64, 67, 0.3), 0px 1px 3px 1px rgba(60, 64, 67, 0.15);\n",
              "      fill: #174EA6;\n",
              "    }\n",
              "\n",
              "    .colab-df-buttons div {\n",
              "      margin-bottom: 4px;\n",
              "    }\n",
              "\n",
              "    [theme=dark] .colab-df-convert {\n",
              "      background-color: #3B4455;\n",
              "      fill: #D2E3FC;\n",
              "    }\n",
              "\n",
              "    [theme=dark] .colab-df-convert:hover {\n",
              "      background-color: #434B5C;\n",
              "      box-shadow: 0px 1px 3px 1px rgba(0, 0, 0, 0.15);\n",
              "      filter: drop-shadow(0px 1px 2px rgba(0, 0, 0, 0.3));\n",
              "      fill: #FFFFFF;\n",
              "    }\n",
              "  </style>\n",
              "\n",
              "    <script>\n",
              "      const buttonEl =\n",
              "        document.querySelector('#df-18abec3a-d621-4fe9-a02c-26d3e955bf9f button.colab-df-convert');\n",
              "      buttonEl.style.display =\n",
              "        google.colab.kernel.accessAllowed ? 'block' : 'none';\n",
              "\n",
              "      async function convertToInteractive(key) {\n",
              "        const element = document.querySelector('#df-18abec3a-d621-4fe9-a02c-26d3e955bf9f');\n",
              "        const dataTable =\n",
              "          await google.colab.kernel.invokeFunction('convertToInteractive',\n",
              "                                                    [key], {});\n",
              "        if (!dataTable) return;\n",
              "\n",
              "        const docLinkHtml = 'Like what you see? Visit the ' +\n",
              "          '<a target=\"_blank\" href=https://colab.research.google.com/notebooks/data_table.ipynb>data table notebook</a>'\n",
              "          + ' to learn more about interactive tables.';\n",
              "        element.innerHTML = '';\n",
              "        dataTable['output_type'] = 'display_data';\n",
              "        await google.colab.output.renderOutput(dataTable, element);\n",
              "        const docLink = document.createElement('div');\n",
              "        docLink.innerHTML = docLinkHtml;\n",
              "        element.appendChild(docLink);\n",
              "      }\n",
              "    </script>\n",
              "  </div>\n",
              "\n",
              "\n",
              "<div id=\"df-79c85228-d24c-4430-8fbe-c94f331a113b\">\n",
              "  <button class=\"colab-df-quickchart\" onclick=\"quickchart('df-79c85228-d24c-4430-8fbe-c94f331a113b')\"\n",
              "            title=\"Suggest charts\"\n",
              "            style=\"display:none;\">\n",
              "\n",
              "<svg xmlns=\"http://www.w3.org/2000/svg\" height=\"24px\"viewBox=\"0 0 24 24\"\n",
              "     width=\"24px\">\n",
              "    <g>\n",
              "        <path d=\"M19 3H5c-1.1 0-2 .9-2 2v14c0 1.1.9 2 2 2h14c1.1 0 2-.9 2-2V5c0-1.1-.9-2-2-2zM9 17H7v-7h2v7zm4 0h-2V7h2v10zm4 0h-2v-4h2v4z\"/>\n",
              "    </g>\n",
              "</svg>\n",
              "  </button>\n",
              "\n",
              "<style>\n",
              "  .colab-df-quickchart {\n",
              "      --bg-color: #E8F0FE;\n",
              "      --fill-color: #1967D2;\n",
              "      --hover-bg-color: #E2EBFA;\n",
              "      --hover-fill-color: #174EA6;\n",
              "      --disabled-fill-color: #AAA;\n",
              "      --disabled-bg-color: #DDD;\n",
              "  }\n",
              "\n",
              "  [theme=dark] .colab-df-quickchart {\n",
              "      --bg-color: #3B4455;\n",
              "      --fill-color: #D2E3FC;\n",
              "      --hover-bg-color: #434B5C;\n",
              "      --hover-fill-color: #FFFFFF;\n",
              "      --disabled-bg-color: #3B4455;\n",
              "      --disabled-fill-color: #666;\n",
              "  }\n",
              "\n",
              "  .colab-df-quickchart {\n",
              "    background-color: var(--bg-color);\n",
              "    border: none;\n",
              "    border-radius: 50%;\n",
              "    cursor: pointer;\n",
              "    display: none;\n",
              "    fill: var(--fill-color);\n",
              "    height: 32px;\n",
              "    padding: 0;\n",
              "    width: 32px;\n",
              "  }\n",
              "\n",
              "  .colab-df-quickchart:hover {\n",
              "    background-color: var(--hover-bg-color);\n",
              "    box-shadow: 0 1px 2px rgba(60, 64, 67, 0.3), 0 1px 3px 1px rgba(60, 64, 67, 0.15);\n",
              "    fill: var(--button-hover-fill-color);\n",
              "  }\n",
              "\n",
              "  .colab-df-quickchart-complete:disabled,\n",
              "  .colab-df-quickchart-complete:disabled:hover {\n",
              "    background-color: var(--disabled-bg-color);\n",
              "    fill: var(--disabled-fill-color);\n",
              "    box-shadow: none;\n",
              "  }\n",
              "\n",
              "  .colab-df-spinner {\n",
              "    border: 2px solid var(--fill-color);\n",
              "    border-color: transparent;\n",
              "    border-bottom-color: var(--fill-color);\n",
              "    animation:\n",
              "      spin 1s steps(1) infinite;\n",
              "  }\n",
              "\n",
              "  @keyframes spin {\n",
              "    0% {\n",
              "      border-color: transparent;\n",
              "      border-bottom-color: var(--fill-color);\n",
              "      border-left-color: var(--fill-color);\n",
              "    }\n",
              "    20% {\n",
              "      border-color: transparent;\n",
              "      border-left-color: var(--fill-color);\n",
              "      border-top-color: var(--fill-color);\n",
              "    }\n",
              "    30% {\n",
              "      border-color: transparent;\n",
              "      border-left-color: var(--fill-color);\n",
              "      border-top-color: var(--fill-color);\n",
              "      border-right-color: var(--fill-color);\n",
              "    }\n",
              "    40% {\n",
              "      border-color: transparent;\n",
              "      border-right-color: var(--fill-color);\n",
              "      border-top-color: var(--fill-color);\n",
              "    }\n",
              "    60% {\n",
              "      border-color: transparent;\n",
              "      border-right-color: var(--fill-color);\n",
              "    }\n",
              "    80% {\n",
              "      border-color: transparent;\n",
              "      border-right-color: var(--fill-color);\n",
              "      border-bottom-color: var(--fill-color);\n",
              "    }\n",
              "    90% {\n",
              "      border-color: transparent;\n",
              "      border-bottom-color: var(--fill-color);\n",
              "    }\n",
              "  }\n",
              "</style>\n",
              "\n",
              "  <script>\n",
              "    async function quickchart(key) {\n",
              "      const quickchartButtonEl =\n",
              "        document.querySelector('#' + key + ' button');\n",
              "      quickchartButtonEl.disabled = true;  // To prevent multiple clicks.\n",
              "      quickchartButtonEl.classList.add('colab-df-spinner');\n",
              "      try {\n",
              "        const charts = await google.colab.kernel.invokeFunction(\n",
              "            'suggestCharts', [key], {});\n",
              "      } catch (error) {\n",
              "        console.error('Error during call to suggestCharts:', error);\n",
              "      }\n",
              "      quickchartButtonEl.classList.remove('colab-df-spinner');\n",
              "      quickchartButtonEl.classList.add('colab-df-quickchart-complete');\n",
              "    }\n",
              "    (() => {\n",
              "      let quickchartButtonEl =\n",
              "        document.querySelector('#df-79c85228-d24c-4430-8fbe-c94f331a113b button');\n",
              "      quickchartButtonEl.style.display =\n",
              "        google.colab.kernel.accessAllowed ? 'block' : 'none';\n",
              "    })();\n",
              "  </script>\n",
              "</div>\n",
              "\n",
              "    </div>\n",
              "  </div>\n"
            ],
            "application/vnd.google.colaboratory.intrinsic+json": {
              "type": "dataframe",
              "variable_name": "tienda",
              "summary": "{\n  \"name\": \"tienda\",\n  \"rows\": 2359,\n  \"fields\": [\n    {\n      \"column\": \"Producto\",\n      \"properties\": {\n        \"dtype\": \"category\",\n        \"num_unique_values\": 51,\n        \"samples\": [\n          \"Guitarra ac\\u00fastica\",\n          \"Bal\\u00f3n de baloncesto\",\n          \"Smartwatch\"\n        ],\n        \"semantic_type\": \"\",\n        \"description\": \"\"\n      }\n    },\n    {\n      \"column\": \"Categor\\u00eda del Producto\",\n      \"properties\": {\n        \"dtype\": \"category\",\n        \"num_unique_values\": 8,\n        \"samples\": [\n          \"Muebles\",\n          \"Deportes y diversi\\u00f3n\",\n          \"Electr\\u00f3nicos\"\n        ],\n        \"semantic_type\": \"\",\n        \"description\": \"\"\n      }\n    },\n    {\n      \"column\": \"Precio\",\n      \"properties\": {\n        \"dtype\": \"number\",\n        \"std\": 614686.7653873172,\n        \"min\": 7600.0,\n        \"max\": 2977000.0,\n        \"num_unique_values\": 1937,\n        \"samples\": [\n          2499400.0,\n          14800.0,\n          80500.0\n        ],\n        \"semantic_type\": \"\",\n        \"description\": \"\"\n      }\n    },\n    {\n      \"column\": \"Costo de env\\u00edo\",\n      \"properties\": {\n        \"dtype\": \"number\",\n        \"std\": 32860.0017825605,\n        \"min\": 0.0,\n        \"max\": 160800.0,\n        \"num_unique_values\": 753,\n        \"samples\": [\n          117800.0,\n          54700.0,\n          45600.0\n        ],\n        \"semantic_type\": \"\",\n        \"description\": \"\"\n      }\n    },\n    {\n      \"column\": \"Fecha de Compra\",\n      \"properties\": {\n        \"dtype\": \"object\",\n        \"num_unique_values\": 1018,\n        \"samples\": [\n          \"15/09/2022\",\n          \"03/06/2020\",\n          \"06/11/2021\"\n        ],\n        \"semantic_type\": \"\",\n        \"description\": \"\"\n      }\n    },\n    {\n      \"column\": \"Vendedor\",\n      \"properties\": {\n        \"dtype\": \"category\",\n        \"num_unique_values\": 14,\n        \"samples\": [\n          \"Juliana Costa\",\n          \"Mariana Herrera\",\n          \"Pedro Gomez\"\n        ],\n        \"semantic_type\": \"\",\n        \"description\": \"\"\n      }\n    },\n    {\n      \"column\": \"Lugar de Compra\",\n      \"properties\": {\n        \"dtype\": \"category\",\n        \"num_unique_values\": 19,\n        \"samples\": [\n          \"Bogot\\u00e1\",\n          \"Pereira\",\n          \"Neiva\"\n        ],\n        \"semantic_type\": \"\",\n        \"description\": \"\"\n      }\n    },\n    {\n      \"column\": \"Calificaci\\u00f3n\",\n      \"properties\": {\n        \"dtype\": \"number\",\n        \"std\": 1,\n        \"min\": 1,\n        \"max\": 5,\n        \"num_unique_values\": 5,\n        \"samples\": [\n          1,\n          2,\n          5\n        ],\n        \"semantic_type\": \"\",\n        \"description\": \"\"\n      }\n    },\n    {\n      \"column\": \"M\\u00e9todo de pago\",\n      \"properties\": {\n        \"dtype\": \"category\",\n        \"num_unique_values\": 4,\n        \"samples\": [\n          \"Nequi\",\n          \"Tarjeta de d\\u00e9bito\",\n          \"Tarjeta de cr\\u00e9dito\"\n        ],\n        \"semantic_type\": \"\",\n        \"description\": \"\"\n      }\n    },\n    {\n      \"column\": \"Cantidad de cuotas\",\n      \"properties\": {\n        \"dtype\": \"number\",\n        \"std\": 2,\n        \"min\": 1,\n        \"max\": 24,\n        \"num_unique_values\": 15,\n        \"samples\": [\n          7,\n          14,\n          8\n        ],\n        \"semantic_type\": \"\",\n        \"description\": \"\"\n      }\n    },\n    {\n      \"column\": \"lat\",\n      \"properties\": {\n        \"dtype\": \"number\",\n        \"std\": 2.2874452492678627,\n        \"min\": -4.21528,\n        \"max\": 11.54444,\n        \"num_unique_values\": 19,\n        \"samples\": [\n          4.60971,\n          4.81333,\n          2.9273\n        ],\n        \"semantic_type\": \"\",\n        \"description\": \"\"\n      }\n    },\n    {\n      \"column\": \"lon\",\n      \"properties\": {\n        \"dtype\": \"number\",\n        \"std\": 1.2178272727088486,\n        \"min\": -77.28111,\n        \"max\": -67.9239,\n        \"num_unique_values\": 19,\n        \"samples\": [\n          -74.08175,\n          -75.69611,\n          -75.28189\n        ],\n        \"semantic_type\": \"\",\n        \"description\": \"\"\n      }\n    }\n  ]\n}"
            }
          },
          "metadata": {},
          "execution_count": 1
        }
      ],
      "source": [
        "import pandas as pd\n",
        "\n",
        "url = \"https://raw.githubusercontent.com/alura-es-cursos/challenge1-data-science-latam/refs/heads/main/base-de-datos-challenge1-latam/tienda_1%20.csv\"\n",
        "url2 = \"https://raw.githubusercontent.com/alura-es-cursos/challenge1-data-science-latam/refs/heads/main/base-de-datos-challenge1-latam/tienda_2.csv\"\n",
        "url3 = \"https://raw.githubusercontent.com/alura-es-cursos/challenge1-data-science-latam/refs/heads/main/base-de-datos-challenge1-latam/tienda_3.csv\"\n",
        "url4 = \"https://raw.githubusercontent.com/alura-es-cursos/challenge1-data-science-latam/refs/heads/main/base-de-datos-challenge1-latam/tienda_4.csv\"\n",
        "\n",
        "tienda = pd.read_csv(url)\n",
        "tienda2 = pd.read_csv(url2)\n",
        "tienda3 = pd.read_csv(url3)\n",
        "tienda4 = pd.read_csv(url4)\n",
        "\n",
        "tienda.head()"
      ]
    },
    {
      "cell_type": "code",
      "source": [
        "import matplotlib.pyplot as plt"
      ],
      "metadata": {
        "id": "zaIwVGBCywk-"
      },
      "execution_count": 2,
      "outputs": []
    },
    {
      "cell_type": "markdown",
      "source": [
        "### Importación de datos\n",
        "\n"
      ],
      "metadata": {
        "id": "RhEdWd9YUR6H"
      }
    },
    {
      "cell_type": "markdown",
      "source": [
        "#1. Análisis de facturación\n",
        "\n"
      ],
      "metadata": {
        "id": "X62IW3KFUIYm"
      }
    },
    {
      "cell_type": "code",
      "source": [
        "it = list(enumerate([tienda, tienda2, tienda3, tienda4], 1))\n",
        "ingresos = [sum(i[1]['Precio']) for i in it]\n",
        "tiendas = [f\"Tienda {i[0]}\" for i in it]\n",
        "\n",
        "for i in (it := list(enumerate([tienda, tienda2, tienda3, tienda4], 1))):\n",
        "    print(f\"Los ingresos totales de la tienda {i[0]} es: $ {sum(i[1]['Precio']):,} en moneda nacional.\")\n",
        "\n",
        "plt.figure(figsize=(8, 6))\n",
        "plt.bar(tiendas, ingresos, color=['tab:green', 'tab:blue', 'tab:orange', 'tab:red'])\n",
        "plt.title('Ingreso Total por Tienda')\n",
        "plt.xlabel('Tienda')\n",
        "plt.ylabel(\"Ingresos\")\n",
        "plt.show()\n"
      ],
      "metadata": {
        "id": "xykobSftV64I",
        "colab": {
          "base_uri": "https://localhost:8080/",
          "height": 633
        },
        "outputId": "5f59b3df-0c8f-464d-c059-89459d88bc9c"
      },
      "execution_count": 55,
      "outputs": [
        {
          "output_type": "stream",
          "name": "stdout",
          "text": [
            "Los ingresos totales de la tienda 1 es: $ 1,150,880,400.0 en moneda nacional.\n",
            "Los ingresos totales de la tienda 2 es: $ 1,116,343,500.0 en moneda nacional.\n",
            "Los ingresos totales de la tienda 3 es: $ 1,098,019,600.0 en moneda nacional.\n",
            "Los ingresos totales de la tienda 4 es: $ 1,038,375,700.0 en moneda nacional.\n"
          ]
        },
        {
          "output_type": "display_data",
          "data": {
            "text/plain": [
              "<Figure size 800x600 with 1 Axes>"
            ],
            "image/png": "[encoded data removed]"
          },
          "metadata": {}
        }
      ]
    },
    {
      "cell_type": "code",
      "source": [],
      "metadata": {
        "id": "wvTSEkoqk4dM"
      },
      "execution_count": null,
      "outputs": []
    },
    {
      "cell_type": "markdown",
      "source": [
        "# 2. Ventas por Categorias\n",
        "\n"
      ],
      "metadata": {
        "id": "nGo34cXAAUa8"
      }
    },
    {
      "cell_type": "code",
      "source": [
        "for i in it:\n",
        "    print(f\"Tienda {i[0]}.\")\n",
        "\n",
        "    categorias_v = (\n",
        "            # Categoria agrupada por ventas por tienda.\n",
        "            i[1].groupby(['Categoría del Producto'])\n",
        "            # Ventas registradas por grupo.\n",
        "            .size()\n",
        "            # Ordenar de mayor a menor.\n",
        "            .sort_values(ascending=False)\n",
        "            # Convierte en DataFrame y renombra columna\n",
        "            .reset_index(name='Número de Ventas')\n",
        "            # Solicitud de cantidad de categorias (7 categorias)\n",
        "            .head(7)\n",
        ")\n",
        "\n",
        "    print(categorias_v)\n",
        "\n",
        "\n",
        "categorias_v.plot(kind=\"barh\", title=f\"Ventas por Categoria.\", color=\"navy\")\n",
        "plt.xlabel('Numero de ventas')\n",
        "plt.ylabel('Categoria del producto')\n",
        "plt.xticks(rotation=25, ha='right')\n",
        "plt.show()\n"
      ],
      "metadata": {
        "id": "XizwFpgER_zJ",
        "colab": {
          "base_uri": "https://localhost:8080/",
          "height": 1000
        },
        "outputId": "0fb7a4a7-93ae-4d6b-a3fb-659dc4c019f1"
      },
      "execution_count": 58,
      "outputs": [
        {
          "output_type": "stream",
          "name": "stdout",
          "text": [
            "Tienda 1.\n",
            "   Categoría del Producto  Número de Ventas\n",
            "0                 Muebles               465\n",
            "1            Electrónicos               448\n",
            "2                Juguetes               324\n",
            "3       Electrodomésticos               312\n",
            "4    Deportes y diversión               284\n",
            "5  Instrumentos musicales               182\n",
            "6                  Libros               173\n",
            "Tienda 2.\n",
            "   Categoría del Producto  Número de Ventas\n",
            "0                 Muebles               442\n",
            "1            Electrónicos               422\n",
            "2                Juguetes               313\n",
            "3       Electrodomésticos               305\n",
            "4    Deportes y diversión               275\n",
            "5  Instrumentos musicales               224\n",
            "6                  Libros               197\n",
            "Tienda 3.\n",
            "    Categoría del Producto  Número de Ventas\n",
            "0                  Muebles               499\n",
            "1             Electrónicos               451\n",
            "2                 Juguetes               315\n",
            "3        Electrodomésticos               278\n",
            "4     Deportes y diversión               277\n",
            "5                   Libros               185\n",
            "6  Artículos para el hogar               177\n",
            "Tienda 4.\n",
            "    Categoría del Producto  Número de Ventas\n",
            "0                  Muebles               480\n",
            "1             Electrónicos               451\n",
            "2                 Juguetes               338\n",
            "3     Deportes y diversión               277\n",
            "4        Electrodomésticos               254\n",
            "5  Artículos para el hogar               201\n",
            "6                   Libros               187\n"
          ]
        },
        {
          "output_type": "display_data",
          "data": {
            "text/plain": [
              "<Figure size 640x480 with 1 Axes>"
            ],
            "image/png": "[encoded data removed]"
          },
          "metadata": {}
        }
      ]
    },
    {
      "cell_type": "code",
      "source": [
        "for i in it:\n",
        "    print(f\"Tienda {i[0]}.\")\n",
        "\n",
        "    df = (\n",
        "          # Categorias ordenado por categoria y producto de las ventas realizadas.\n",
        "          i[1].groupby('Categoría del Producto')\n",
        "          ['Producto'].value_counts()\n",
        "          # Ordenar de mayor a menor.\n",
        "          .sort_values(ascending=False)\n",
        "          .head(51)\n",
        "          .reset_index(name='Número de Ventas')\n",
        ")\n",
        "    print(df)\n"
      ],
      "metadata": {
        "id": "A34YupIuYhfF",
        "colab": {
          "base_uri": "https://localhost:8080/"
        },
        "outputId": "11380782-6a1b-4ece-ae13-531fda24940e"
      },
      "execution_count": null,
      "outputs": [
        {
          "output_type": "stream",
          "name": "stdout",
          "text": [
            "Tienda 1.\n",
            "     Categoría del Producto                     Producto  Número de Ventas\n",
            "0         Electrodomésticos                   Microondas                60\n",
            "1              Electrónicos                TV LED UHD 4K                60\n",
            "2                   Muebles                      Armario                60\n",
            "3         Electrodomésticos             Secadora de ropa                58\n",
            "4                  Juguetes      Bloques de construcción                56\n",
            "5                   Muebles                Mesa de noche                56\n",
            "6      Deportes y diversión          Balón de baloncesto                55\n",
            "7      Deportes y diversión                    Bicicleta                54\n",
            "8         Electrodomésticos                 Refrigerador                54\n",
            "9      Deportes y diversión                 Vaso térmico                54\n",
            "10             Electrónicos                    Impresora                54\n",
            "11   Instrumentos musicales                      Batería                53\n",
            "12  Artículos para el hogar                   Cubertería                52\n",
            "13                 Juguetes    Carrito de control remoto                52\n",
            "14                   Libros          Modelado predictivo                51\n",
            "15             Electrónicos                  Auriculares                50\n",
            "16                 Juguetes            Ajedrez de madera                49\n",
            "17             Electrónicos                    Iphone 15                49\n",
            "18        Electrodomésticos                 Lavavajillas                48\n",
            "19   Instrumentos musicales           Guitarra eléctrica                47\n",
            "20        Electrodomésticos             Lavadora de ropa                47\n",
            "21   Instrumentos musicales            Guitarra acústica                46\n",
            "22                  Muebles             Silla de oficina                46\n",
            "23                  Muebles              Sofá reclinable                46\n",
            "24        Electrodomésticos                       Estufa                45\n",
            "25                 Juguetes              Cubo mágico 8x8                44\n",
            "26                  Muebles                    Cama king                44\n",
            "27                  Muebles               Mesa de centro                44\n",
            "28                  Muebles                Kit de bancas                44\n",
            "29                  Muebles                     Cama box                44\n",
            "30             Electrónicos                     Smart TV                44\n",
            "31             Electrónicos                   Smartwatch                43\n",
            "32  Artículos para el hogar                 Set de ollas                43\n",
            "33                 Juguetes                Juego de mesa                43\n",
            "34     Deportes y diversión            Balón de voleibol                42\n",
            "35             Electrónicos                  Tablet ABXY                42\n",
            "36                   Libros      Dashboards con Power BI                42\n",
            "37                  Muebles                       Sillón                41\n",
            "38  Artículos para el hogar                 Set de vasos                41\n",
            "39                   Libros    Iniciando en programación                41\n",
            "40                 Juguetes                  Muñeca bebé                40\n",
            "41     Deportes y diversión           Cuerda para saltar                40\n",
            "42                 Juguetes               Dinosaurio Rex                40\n",
            "43                  Muebles              Mesa de comedor                40\n",
            "44             Electrónicos            Asistente virtual                40\n",
            "45                   Libros  Ciencia de datos con Python                39\n",
            "46     Deportes y diversión                      Mochila                39\n",
            "47   Instrumentos musicales                    Pandereta                36\n",
            "48  Artículos para el hogar              Olla de presión                35\n",
            "49             Electrónicos    Auriculares con micrófono                33\n",
            "50             Electrónicos                 Celular ABXY                33\n",
            "Tienda 2.\n",
            "     Categoría del Producto                     Producto  Número de Ventas\n",
            "0                    Libros    Iniciando en programación                65\n",
            "1         Electrodomésticos                   Microondas                62\n",
            "2    Instrumentos musicales                      Batería                61\n",
            "3    Instrumentos musicales            Guitarra acústica                58\n",
            "4    Instrumentos musicales                    Pandereta                58\n",
            "5         Electrodomésticos             Secadora de ropa                57\n",
            "6              Electrónicos                    Iphone 15                55\n",
            "7                  Juguetes      Bloques de construcción                54\n",
            "8                   Muebles                      Armario                54\n",
            "9   Artículos para el hogar                 Set de ollas                52\n",
            "10     Deportes y diversión           Cuerda para saltar                50\n",
            "11        Electrodomésticos             Lavadora de ropa                49\n",
            "12                  Muebles             Silla de oficina                49\n",
            "13        Electrodomésticos                 Refrigerador                49\n",
            "14                 Juguetes                  Muñeca bebé                48\n",
            "15     Deportes y diversión                 Vaso térmico                47\n",
            "16                 Juguetes    Carrito de control remoto                47\n",
            "17   Instrumentos musicales           Guitarra eléctrica                47\n",
            "18                  Muebles                     Cama box                47\n",
            "19     Deportes y diversión            Balón de voleibol                46\n",
            "20        Electrodomésticos                 Lavavajillas                46\n",
            "21  Artículos para el hogar                 Set de vasos                46\n",
            "22                   Libros          Modelado predictivo                46\n",
            "23                 Juguetes              Cubo mágico 8x8                45\n",
            "24     Deportes y diversión                      Mochila                45\n",
            "25             Electrónicos                TV LED UHD 4K                45\n",
            "26     Deportes y diversión                    Bicicleta                45\n",
            "27                  Muebles                Kit de bancas                45\n",
            "28                  Muebles                    Cama king                45\n",
            "29                  Muebles               Mesa de centro                45\n",
            "30                 Juguetes            Ajedrez de madera                45\n",
            "31  Artículos para el hogar              Olla de presión                44\n",
            "32                  Muebles                Mesa de noche                44\n",
            "33             Electrónicos                   Smartwatch                44\n",
            "34             Electrónicos    Auriculares con micrófono                44\n",
            "35             Electrónicos                  Tablet ABXY                44\n",
            "36                  Muebles              Sofá reclinable                44\n",
            "37                   Libros      Dashboards con Power BI                43\n",
            "38                   Libros  Ciencia de datos con Python                43\n",
            "39     Deportes y diversión          Balón de baloncesto                42\n",
            "40        Electrodomésticos                       Estufa                42\n",
            "41                 Juguetes               Dinosaurio Rex                42\n",
            "42             Electrónicos                 Celular ABXY                41\n",
            "43             Electrónicos                     Smart TV                40\n",
            "44  Artículos para el hogar                   Cubertería                39\n",
            "45             Electrónicos            Asistente virtual                38\n",
            "46             Electrónicos                  Auriculares                37\n",
            "47                  Muebles                       Sillón                35\n",
            "48             Electrónicos                    Impresora                34\n",
            "49                  Muebles              Mesa de comedor                34\n",
            "50                 Juguetes                Juego de mesa                32\n",
            "Tienda 3.\n",
            "     Categoría del Producto                     Producto  Número de Ventas\n",
            "0                   Muebles                Kit de bancas                57\n",
            "1                   Muebles                    Cama king                56\n",
            "2                   Muebles              Mesa de comedor                56\n",
            "3                   Muebles                Mesa de noche                55\n",
            "4   Artículos para el hogar                 Set de ollas                55\n",
            "5              Electrónicos                     Smart TV                54\n",
            "6                    Libros          Modelado predictivo                53\n",
            "7         Electrodomésticos                       Estufa                53\n",
            "8      Deportes y diversión           Cuerda para saltar                53\n",
            "9         Electrodomésticos                 Lavavajillas                52\n",
            "10     Deportes y diversión                    Bicicleta                52\n",
            "11                 Juguetes                Juego de mesa                52\n",
            "12                 Juguetes    Carrito de control remoto                52\n",
            "13   Instrumentos musicales                    Pandereta                51\n",
            "14             Electrónicos                    Impresora                50\n",
            "15        Electrodomésticos                 Refrigerador                50\n",
            "16     Deportes y diversión          Balón de baloncesto                50\n",
            "17                  Muebles                      Armario                49\n",
            "18             Electrónicos                  Tablet ABXY                48\n",
            "19     Deportes y diversión            Balón de voleibol                48\n",
            "20                  Muebles                       Sillón                47\n",
            "21   Instrumentos musicales            Guitarra acústica                47\n",
            "22                 Juguetes            Ajedrez de madera                47\n",
            "23  Artículos para el hogar              Olla de presión                47\n",
            "24                   Libros  Ciencia de datos con Python                46\n",
            "25             Electrónicos                   Smartwatch                46\n",
            "26             Electrónicos                    Iphone 15                46\n",
            "27                  Muebles                     Cama box                46\n",
            "28                  Muebles             Silla de oficina                46\n",
            "29                   Libros    Iniciando en programación                46\n",
            "30                 Juguetes               Dinosaurio Rex                46\n",
            "31        Electrodomésticos             Secadora de ropa                45\n",
            "32                  Muebles              Sofá reclinable                45\n",
            "33                 Juguetes              Cubo mágico 8x8                44\n",
            "34             Electrónicos                 Celular ABXY                44\n",
            "35             Electrónicos                  Auriculares                43\n",
            "36        Electrodomésticos             Lavadora de ropa                42\n",
            "37                  Muebles               Mesa de centro                42\n",
            "38             Electrónicos                TV LED UHD 4K                42\n",
            "39   Instrumentos musicales                      Batería                41\n",
            "40                   Libros      Dashboards con Power BI                40\n",
            "41  Artículos para el hogar                   Cubertería                39\n",
            "42             Electrónicos            Asistente virtual                39\n",
            "43                 Juguetes                  Muñeca bebé                39\n",
            "44             Electrónicos    Auriculares con micrófono                39\n",
            "45   Instrumentos musicales           Guitarra eléctrica                38\n",
            "46     Deportes y diversión                 Vaso térmico                38\n",
            "47        Electrodomésticos                   Microondas                36\n",
            "48     Deportes y diversión                      Mochila                36\n",
            "49  Artículos para el hogar                 Set de vasos                36\n",
            "50                 Juguetes      Bloques de construcción                35\n",
            "Tienda 4.\n",
            "     Categoría del Producto                     Producto  Número de Ventas\n",
            "0                   Muebles                     Cama box                62\n",
            "1   Artículos para el hogar                   Cubertería                59\n",
            "2                    Libros      Dashboards con Power BI                56\n",
            "3                   Muebles                    Cama king                56\n",
            "4                  Juguetes    Carrito de control remoto                55\n",
            "5                   Muebles                Mesa de noche                55\n",
            "6                   Muebles              Mesa de comedor                55\n",
            "7              Electrónicos                     Smart TV                54\n",
            "8                  Juguetes      Bloques de construcción                54\n",
            "9    Instrumentos musicales                    Pandereta                52\n",
            "10                   Libros          Modelado predictivo                50\n",
            "11             Electrónicos            Asistente virtual                50\n",
            "12     Deportes y diversión          Balón de baloncesto                50\n",
            "13             Electrónicos                    Impresora                50\n",
            "14  Artículos para el hogar                 Set de ollas                50\n",
            "15        Electrodomésticos                   Microondas                48\n",
            "16     Deportes y diversión            Balón de voleibol                48\n",
            "17                 Juguetes                Juego de mesa                48\n",
            "18     Deportes y diversión                 Vaso térmico                48\n",
            "19                 Juguetes                  Muñeca bebé                48\n",
            "20             Electrónicos                    Iphone 15                48\n",
            "21   Instrumentos musicales                      Batería                48\n",
            "22        Electrodomésticos                       Estufa                47\n",
            "23                  Muebles              Sofá reclinable                47\n",
            "24                 Juguetes               Dinosaurio Rex                47\n",
            "25                 Juguetes              Cubo mágico 8x8                47\n",
            "26  Artículos para el hogar              Olla de presión                46\n",
            "27  Artículos para el hogar                 Set de vasos                46\n",
            "28                  Muebles                       Sillón                45\n",
            "29     Deportes y diversión                    Bicicleta                45\n",
            "30             Electrónicos                  Tablet ABXY                45\n",
            "31             Electrónicos                  Auriculares                44\n",
            "32                  Muebles               Mesa de centro                44\n",
            "33     Deportes y diversión           Cuerda para saltar                43\n",
            "34     Deportes y diversión                      Mochila                43\n",
            "35                   Libros    Iniciando en programación                43\n",
            "36        Electrodomésticos                 Lavavajillas                43\n",
            "37                  Muebles                Kit de bancas                42\n",
            "38             Electrónicos    Auriculares con micrófono                42\n",
            "39                  Muebles             Silla de oficina                40\n",
            "40             Electrónicos                TV LED UHD 4K                40\n",
            "41        Electrodomésticos             Secadora de ropa                40\n",
            "42                 Juguetes            Ajedrez de madera                39\n",
            "43             Electrónicos                 Celular ABXY                39\n",
            "44             Electrónicos                   Smartwatch                39\n",
            "45        Electrodomésticos                 Refrigerador                38\n",
            "46        Electrodomésticos             Lavadora de ropa                38\n",
            "47                   Libros  Ciencia de datos con Python                38\n",
            "48   Instrumentos musicales            Guitarra acústica                37\n",
            "49                  Muebles                      Armario                34\n",
            "50   Instrumentos musicales           Guitarra eléctrica                33\n"
          ]
        }
      ]
    },
    {
      "cell_type": "markdown",
      "source": [
        "# 3. Calificación promedio de la tienda\n"
      ],
      "metadata": {
        "id": "Rq6tU_xSY3jk"
      }
    },
    {
      "cell_type": "code",
      "source": [
        "for i in it:\n",
        "    print(f\"El ingreso promedio de la tienda {i[0]} es de: $ {round(i[1]['Precio'].mean(),2)} moneda nacional.\")\n",
        "\n",
        "fig, ax1 = plt.subplots(figsize=(8, 6))\n",
        "\n",
        "ax1.bar(tiendas, ingresos, color='navy', label='Ingreso')\n",
        "ax1.set_xlabel('Tienda')\n",
        "ax1.set_ylabel('Ingreso ($)', color='navy')\n",
        "ax1.tick_params(axis='y', labelcolor='navy')\n",
        "\n",
        "ax2 = ax1.twinx()\n",
        "calificaciones = [i[1]['Calificación'].mean() for i in it]\n",
        "ax2.plot(tiendas, calificaciones, color='Orange', marker='o', label='Calificación Promedio')\n",
        "ax2.set_ylabel('Calificación Promedio', color='orange')\n",
        "ax2.tick_params(axis='y', labelcolor='red')\n",
        "\n",
        "plt.title('Ingresos y Calificación Promedio por Tienda')\n",
        "fig.tight_layout()\n",
        "plt.show()\n"
      ],
      "metadata": {
        "colab": {
          "base_uri": "https://localhost:8080/",
          "height": 680
        },
        "id": "465iVJrlGvl8",
        "outputId": "25021973-c636-4b38-c62f-0859109ac73b"
      },
      "execution_count": null,
      "outputs": [
        {
          "output_type": "stream",
          "name": "stdout",
          "text": [
            "El ingreso promedio de la tienda 1 es de: $ 487867.91 moneda nacional.\n",
            "El ingreso promedio de la tienda 2 es de: $ 473227.43 moneda nacional.\n",
            "El ingreso promedio de la tienda 3 es de: $ 465459.77 moneda nacional.\n",
            "El ingreso promedio de la tienda 4 es de: $ 440362.89 moneda nacional.\n"
          ]
        },
        {
          "output_type": "display_data",
          "data": {
            "text/plain": [
              "<Figure size 800x600 with 2 Axes>"
            ],
            "image/png": "[encoded data removed]"
          },
          "metadata": {}
        }
      ]
    },
    {
      "cell_type": "code",
      "source": [
        "for i in it:\n",
        "    print(f\"La calificacion promedio del servicio de la tienda {i[0]} es de: {round(i[1]['Calificación'].mean(),2)}.\")\n",
        "\n"
      ],
      "metadata": {
        "id": "I0KkjPoTY88F",
        "colab": {
          "base_uri": "https://localhost:8080/"
        },
        "outputId": "40e89704-4663-4efe-a377-49ed6b233700"
      },
      "execution_count": null,
      "outputs": [
        {
          "output_type": "stream",
          "name": "stdout",
          "text": [
            "La calificacion promedio del servicio de la tienda 1 es de: 3.98.\n",
            "La calificacion promedio del servicio de la tienda 2 es de: 4.04.\n",
            "La calificacion promedio del servicio de la tienda 3 es de: 4.05.\n",
            "La calificacion promedio del servicio de la tienda 4 es de: 4.0.\n"
          ]
        }
      ]
    },
    {
      "cell_type": "code",
      "source": [],
      "metadata": {
        "id": "s0ND_yzj4zPM"
      },
      "execution_count": null,
      "outputs": []
    },
    {
      "cell_type": "markdown",
      "source": [
        "# 4. Productos más y menos vendidos"
      ],
      "metadata": {
        "id": "DmNp1KPBZCm-"
      }
    },
    {
      "cell_type": "code",
      "source": [
        "for i in it:\n",
        "    print(f\"Tienda {i[0]}.\")\n",
        "\n",
        "    df = (\n",
        "          # Categorias ordenado por categoria y producto de las ventas realizadas.\n",
        "          i[1].groupby('Categoría del Producto')\n",
        "          ['Producto'].value_counts()\n",
        "          # Ordenar de mayor a menor.\n",
        "          .sort_values(ascending=False)\n",
        "          .head(3)\n",
        "          .reset_index(name='Número de Ventas')\n",
        ")\n",
        "\n",
        "    print(df)"
      ],
      "metadata": {
        "id": "qoyjqijQZHfF",
        "colab": {
          "base_uri": "https://localhost:8080/"
        },
        "outputId": "3e5fd764-f6fc-402b-eed5-aab438eebda7"
      },
      "execution_count": null,
      "outputs": [
        {
          "output_type": "stream",
          "name": "stdout",
          "text": [
            "Tienda 1.\n",
            "  Categoría del Producto       Producto  Número de Ventas\n",
            "0      Electrodomésticos     Microondas                60\n",
            "1           Electrónicos  TV LED UHD 4K                60\n",
            "2                Muebles        Armario                60\n",
            "Tienda 2.\n",
            "   Categoría del Producto                   Producto  Número de Ventas\n",
            "0                  Libros  Iniciando en programación                65\n",
            "1       Electrodomésticos                 Microondas                62\n",
            "2  Instrumentos musicales                    Batería                61\n",
            "Tienda 3.\n",
            "  Categoría del Producto         Producto  Número de Ventas\n",
            "0                Muebles    Kit de bancas                57\n",
            "1                Muebles        Cama king                56\n",
            "2                Muebles  Mesa de comedor                56\n",
            "Tienda 4.\n",
            "    Categoría del Producto                 Producto  Número de Ventas\n",
            "0                  Muebles                 Cama box                62\n",
            "1  Artículos para el hogar               Cubertería                59\n",
            "2                   Libros  Dashboards con Power BI                56\n"
          ]
        }
      ]
    },
    {
      "cell_type": "code",
      "source": [
        "for i in it:\n",
        "    print(f\"Tienda {i[0]}.\")\n",
        "\n",
        "    df = (\n",
        "          # Categorias ordenado por categoria y producto de las ventas realizadas.\n",
        "          i[1].groupby('Categoría del Producto')\n",
        "          ['Producto'].value_counts()\n",
        "          # Ordenar de mayor a menor.\n",
        "          .sort_values(ascending=True)\n",
        "          .head(3)\n",
        "          .reset_index(name='Número de Ventas')\n",
        ")\n",
        "\n",
        "    print(df)"
      ],
      "metadata": {
        "id": "0Sw3sd4IZIGW",
        "colab": {
          "base_uri": "https://localhost:8080/"
        },
        "outputId": "02533642-192c-4d63-f793-fb48aeeacdfc"
      },
      "execution_count": null,
      "outputs": [
        {
          "output_type": "stream",
          "name": "stdout",
          "text": [
            "Tienda 1.\n",
            "    Categoría del Producto                   Producto  Número de Ventas\n",
            "0             Electrónicos  Auriculares con micrófono                33\n",
            "1             Electrónicos               Celular ABXY                33\n",
            "2  Artículos para el hogar            Olla de presión                35\n",
            "Tienda 2.\n",
            "  Categoría del Producto         Producto  Número de Ventas\n",
            "0               Juguetes    Juego de mesa                32\n",
            "1           Electrónicos        Impresora                34\n",
            "2                Muebles  Mesa de comedor                34\n",
            "Tienda 3.\n",
            "    Categoría del Producto                 Producto  Número de Ventas\n",
            "0                 Juguetes  Bloques de construcción                35\n",
            "1  Artículos para el hogar             Set de vasos                36\n",
            "2        Electrodomésticos               Microondas                36\n",
            "Tienda 4.\n",
            "   Categoría del Producto            Producto  Número de Ventas\n",
            "0  Instrumentos musicales  Guitarra eléctrica                33\n",
            "1                 Muebles             Armario                34\n",
            "2  Instrumentos musicales   Guitarra acústica                37\n"
          ]
        }
      ]
    },
    {
      "cell_type": "markdown",
      "source": [
        "# 5. Envío promedio por tienda"
      ],
      "metadata": {
        "id": "Fl0cGi3bZKqU"
      }
    },
    {
      "cell_type": "code",
      "source": [
        "for i in it:\n",
        "    print(f\"El costo promedio de envio en la tienda {i[0]} es de: $ {round(i[1]['Costo de envío'].mean(),2)} moneda nacional.\")"
      ],
      "metadata": {
        "colab": {
          "base_uri": "https://localhost:8080/"
        },
        "id": "4H0sB_QC8DOp",
        "outputId": "6f9bf621-b858-49bb-ace4-a3f079582891"
      },
      "execution_count": null,
      "outputs": [
        {
          "output_type": "stream",
          "name": "stdout",
          "text": [
            "El costo promedio de envio en la tienda 1 es de: $ 26018.61 moneda nacional.\n",
            "El costo promedio de envio en la tienda 2 es de: $ 25216.24 moneda nacional.\n",
            "El costo promedio de envio en la tienda 3 es de: $ 24805.68 moneda nacional.\n",
            "El costo promedio de envio en la tienda 4 es de: $ 23459.46 moneda nacional.\n"
          ]
        }
      ]
    },
    {
      "cell_type": "code",
      "source": [],
      "metadata": {
        "id": "nsRc6y3Wqbhz"
      },
      "execution_count": null,
      "outputs": []
    },
    {
      "cell_type": "code",
      "source": [],
      "metadata": {
        "id": "sC-M5-5k6I1N"
      },
      "execution_count": null,
      "outputs": []
    },
    {
      "cell_type": "code",
      "source": [
        "data = {'lat': np.arange(500),\n",
        "        'long': np.random.randint(0, 500, 500),}\n",
        "data['lat'] = data['long'] + 10 * np.random.randn(500)\n",
        "\n",
        "\n",
        "plt.scatter('lat', 'long', data=data)\n",
        "plt.xlabel('Latitud')\n",
        "plt.ylabel('Longitud')\n",
        "plt.show()"
      ],
      "metadata": {
        "colab": {
          "base_uri": "https://localhost:8080/",
          "height": 449
        },
        "id": "lDSQrOvW6Jg9",
        "outputId": "a2e66df3-1a33-4092-c2a8-62bbd31c41e7"
      },
      "execution_count": null,
      "outputs": [
        {
          "output_type": "display_data",
          "data": {
            "text/plain": [
              "<Figure size 640x480 with 1 Axes>"
            ],
            "image/png": "[encoded data removed]"
          },
          "metadata": {}
        }
      ]
    },
    {
      "cell_type": "code",
      "source": [],
      "metadata": {
        "id": "dBhW8fI46oWU"
      },
      "execution_count": null,
      "outputs": []
    },
    {
      "cell_type": "code",
      "source": [],
      "metadata": {
        "id": "AYXzVOaP7KWw"
      },
      "execution_count": null,
      "outputs": []
    },
    {
      "cell_type": "markdown",
      "source": [
        "# Analisis y recomendaciones de rentabilidad.\n",
        "\n",
        "Dentro del analisis realizado para determinar la menor rentabilidad en las tiendas se pudo detectar que la tienda 4 es la que presenta los menores ingresos con una cantidad de 1,038,375,700.0, otro factor que se tomo en cuenta fue la cantidad de ventaras realizadas por categoria apesar de estar en la tercera pocicion en ventas con 2188 productos vendidos.\n",
        "Determinando el nivel de satisfacion del usuario la tienda 4 se encuentra en una tercera posicion con una calificacion del 4 esto indica que existe un area de oportunidad en el servicio proporcionado.\n",
        "Para el costo por envio encontramos que la tienda 4 es la que tiene el menor costo promedio de envio con una cantidad de 23459.46 siendo esta la que representa in menor costo, aun no es un valor significativo para mantener una rentabilidad mayor.\n",
        "\n",
        "Determinando de manera profecional y sugiriendo una oportunidad de reasignar los recursos, lo recomendable es vender la tienda 4 ya que es la que presenta una menor rentabilidad."
      ],
      "metadata": {
        "id": "Uz-uRo1V9L8Z"
      }
    }
  ]
}